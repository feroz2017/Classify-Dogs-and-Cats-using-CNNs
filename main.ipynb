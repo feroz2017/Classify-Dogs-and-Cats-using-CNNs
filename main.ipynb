{
  "nbformat": 4,
  "nbformat_minor": 0,
  "metadata": {
    "colab": {
      "name": "main.ipynb",
      "provenance": [],
      "collapsed_sections": [],
      "authorship_tag": "ABX9TyNd2ntF5lfZsk9gf8j8PmuB",
      "include_colab_link": true
    },
    "kernelspec": {
      "name": "python3",
      "display_name": "Python 3"
    },
    "accelerator": "GPU"
  },
  "cells": [
    {
      "cell_type": "markdown",
      "metadata": {
        "id": "view-in-github",
        "colab_type": "text"
      },
      "source": [
        "<a href=\"https://colab.research.google.com/github/feroz2017/Classify-Dogs-and-Cats-using-CNNs/blob/master/main.ipynb\" target=\"_parent\"><img src=\"https://colab.research.google.com/assets/colab-badge.svg\" alt=\"Open In Colab\"/></a>"
      ]
    },
    {
      "cell_type": "code",
      "metadata": {
        "id": "KVxy5cXRhX-X",
        "colab_type": "code",
        "colab": {}
      },
      "source": [
        "import os\n",
        "import numpy as np\n",
        "import matplotlib.pyplot as plt\n",
        "import tensorflow as tf\n",
        "from tensorflow.keras.preprocessing.image import ImageDataGenerator"
      ],
      "execution_count": 2,
      "outputs": []
    },
    {
      "cell_type": "code",
      "metadata": {
        "id": "f54PcVCQlJbo",
        "colab_type": "code",
        "colab": {
          "base_uri": "https://localhost:8080/",
          "height": 51
        },
        "outputId": "51c3f4a8-e30f-498d-b6c6-e8447f2d7959"
      },
      "source": [
        "url = 'https://storage.googleapis.com/mledu-datasets/cats_and_dogs_filtered.zip'\n",
        "dir = tf.keras.utils.get_file('data.zip',origin=url,extract=True)"
      ],
      "execution_count": 3,
      "outputs": [
        {
          "output_type": "stream",
          "text": [
            "Downloading data from https://storage.googleapis.com/mledu-datasets/cats_and_dogs_filtered.zip\n",
            "68608000/68606236 [==============================] - 1s 0us/step\n"
          ],
          "name": "stdout"
        }
      ]
    },
    {
      "cell_type": "code",
      "metadata": {
        "id": "hjepDaCv0wQW",
        "colab_type": "code",
        "colab": {}
      },
      "source": [
        "baseDir = os.path.join(os.path.dirname(dir),'cats_and_dogs_filtered')\n",
        "trainDir = os.path.join(baseDir,'train')\n",
        "validDir = os.path.join(baseDir,'validation')\n",
        "trainCatsDir = os.path.join(trainDir,'cats')\n",
        "trainDogsDir = os.path.join(trainDir,'dogs')\n",
        "validCatsDir = os.path.join(validDir,'cats')\n",
        "validDogsDir = os.path.join(validDir,'dogs')"
      ],
      "execution_count": 4,
      "outputs": []
    },
    {
      "cell_type": "markdown",
      "metadata": {
        "id": "4rukvDq01KX_",
        "colab_type": "text"
      },
      "source": [
        ""
      ]
    },
    {
      "cell_type": "code",
      "metadata": {
        "id": "O8KONojj05oA",
        "colab_type": "code",
        "colab": {
          "base_uri": "https://localhost:8080/",
          "height": 34
        },
        "outputId": "c975e670-ea82-4601-d665-f845d316ee26"
      },
      "source": [
        "ls /root/.keras/datasets/cats_and_dogs_filtered/train"
      ],
      "execution_count": 5,
      "outputs": [
        {
          "output_type": "stream",
          "text": [
            "\u001b[0m\u001b[01;34mcats\u001b[0m/  \u001b[01;34mdogs\u001b[0m/\n"
          ],
          "name": "stdout"
        }
      ]
    },
    {
      "cell_type": "code",
      "metadata": {
        "id": "zElDwPnR9A_7",
        "colab_type": "code",
        "colab": {}
      },
      "source": [
        ""
      ],
      "execution_count": 11,
      "outputs": []
    },
    {
      "cell_type": "markdown",
      "metadata": {
        "id": "zkJWo0jm_2q2",
        "colab_type": "text"
      },
      "source": [
        "Data augmentation for cats and dogs images\n"
      ]
    },
    {
      "cell_type": "markdown",
      "metadata": {
        "id": "wxZGmAip1JOQ",
        "colab_type": "text"
      },
      "source": [
        "# New Section"
      ]
    },
    {
      "cell_type": "code",
      "metadata": {
        "id": "Raq-7JvTHJU3",
        "colab_type": "code",
        "colab": {
          "base_uri": "https://localhost:8080/",
          "height": 51
        },
        "outputId": "7c2d56d9-abbd-4021-fc0a-c887fabe2c47"
      },
      "source": [
        "image_generator_train = ImageDataGenerator(\n",
        "    rescale = 1./255,\n",
        "    rotation_range=45,\n",
        "    zoom_range = 0.3,\n",
        "    horizontal_flip = True,\n",
        "    vertical_flip = True,\n",
        "    fill_mode = 'nearest',\n",
        "    height_shift_range = 0.4,\n",
        "    width_shift_range = 0.5\n",
        ")\n",
        "image_generator_valid = ImageDataGenerator(\n",
        "    rescale = 1./255,\n",
        ")\n",
        "valid_Data_Gen = image_generator_valid.flow_from_directory(\n",
        "    batch_size = 100,\n",
        "    shuffle = True,\n",
        "    directory = validDir,\n",
        "    target_size = (150,150),\n",
        "    class_mode = 'binary'\n",
        ")\n",
        "train_Data_Gen = image_generator_train.flow_from_directory(batch_size = 100,\n",
        "                                                           directory = trainDir,\n",
        "                                                           shuffle = True,\n",
        "                                                           target_size = (150,150),\n",
        "                                                           class_mode = 'binary')"
      ],
      "execution_count": 8,
      "outputs": [
        {
          "output_type": "stream",
          "text": [
            "Found 1000 images belonging to 2 classes.\n",
            "Found 2000 images belonging to 2 classes.\n"
          ],
          "name": "stdout"
        }
      ]
    },
    {
      "cell_type": "code",
      "metadata": {
        "id": "0bi2UTbmVrfz",
        "colab_type": "code",
        "colab": {}
      },
      "source": [
        ""
      ],
      "execution_count": 10,
      "outputs": []
    },
    {
      "cell_type": "code",
      "metadata": {
        "id": "0BjAhXt8p04a",
        "colab_type": "code",
        "colab": {}
      },
      "source": [
        "model = tf.keras.Sequential([\n",
        "                             tf.keras.layers.Conv2D(32,(3,3),activation='relu',input_shape = (150,150,3)),\n",
        "                             tf.keras.layers.MaxPool2D(2,2),\n",
        "                             tf.keras.layers.Conv2D(64,(3,3),activation='relu'),\n",
        "                             tf.keras.layers.MaxPool2D(2,2),\n",
        "                             tf.keras.layers.Conv2D(128,(3,3),activation='relu'),\n",
        "                             tf.keras.layers.MaxPool2D(2,2),\n",
        "                             tf.keras.layers.Conv2D(128,(3,3),activation='relu'),\n",
        "                             tf.keras.layers.Dropout(0.4),\n",
        "                             tf.keras.layers.Flatten(),\n",
        "                             tf.keras.layers.Dense(512,activation='relu'),\n",
        "                             tf.keras.layers.Dense(2)\n",
        "])"
      ],
      "execution_count": 11,
      "outputs": []
    },
    {
      "cell_type": "code",
      "metadata": {
        "id": "Zq_1lqDBrfg1",
        "colab_type": "code",
        "colab": {}
      },
      "source": [
        ""
      ],
      "execution_count": null,
      "outputs": []
    }
  ]
}