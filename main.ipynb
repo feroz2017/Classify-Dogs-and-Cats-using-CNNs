{
  "nbformat": 4,
  "nbformat_minor": 0,
  "metadata": {
    "colab": {
      "name": "main.ipynb",
      "provenance": [],
      "collapsed_sections": [],
      "authorship_tag": "ABX9TyOEKOgR+mTEqbqBFo4yaefY",
      "include_colab_link": true
    },
    "kernelspec": {
      "name": "python3",
      "display_name": "Python 3"
    }
  },
  "cells": [
    {
      "cell_type": "markdown",
      "metadata": {
        "id": "view-in-github",
        "colab_type": "text"
      },
      "source": [
        "<a href=\"https://colab.research.google.com/github/feroz2017/Classify-Dogs-and-Cats-using-CNNs/blob/master/main.ipynb\" target=\"_parent\"><img src=\"https://colab.research.google.com/assets/colab-badge.svg\" alt=\"Open In Colab\"/></a>"
      ]
    },
    {
      "cell_type": "code",
      "metadata": {
        "id": "KVxy5cXRhX-X",
        "colab_type": "code",
        "colab": {}
      },
      "source": [
        "import os\n",
        "import numpy as np\n",
        "import matplotlib.pyplot as plt\n",
        "import tensorflow as tf\n",
        "from tensorflow.keras.preprocessing.image import ImageDataGenerator"
      ],
      "execution_count": 2,
      "outputs": []
    },
    {
      "cell_type": "code",
      "metadata": {
        "id": "f54PcVCQlJbo",
        "colab_type": "code",
        "colab": {
          "base_uri": "https://localhost:8080/",
          "height": 51
        },
        "outputId": "8e90ca27-d4eb-4dff-c532-718fb02cbd90"
      },
      "source": [
        "url = 'https://storage.googleapis.com/mledu-datasets/cats_and_dogs_filtered.zip'\n",
        "dir = tf.keras.utils.get_file('data.zip',origin=url,extract=True)"
      ],
      "execution_count": 3,
      "outputs": [
        {
          "output_type": "stream",
          "text": [
            "Downloading data from https://storage.googleapis.com/mledu-datasets/cats_and_dogs_filtered.zip\n",
            "68608000/68606236 [==============================] - 0s 0us/step\n"
          ],
          "name": "stdout"
        }
      ]
    },
    {
      "cell_type": "code",
      "metadata": {
        "id": "hjepDaCv0wQW",
        "colab_type": "code",
        "colab": {}
      },
      "source": [
        "baseDir = os.path.join(os.path.dirname(dir),'cats_and_dogs_filtered')\n",
        "trainDir = os.path.join(baseDir,'train')\n",
        "validDir = os.path.join(baseDir,'validation')\n",
        "trainCatsDir = os.path.join(trainDir,'cats')\n",
        "trainDogsDir = os.path.join(trainDir,'dogs')\n",
        "validCatsDir = os.path.join(validDir,'cats')\n",
        "validDogsDir = os.path.join(validDir,'dogs')"
      ],
      "execution_count": 24,
      "outputs": []
    },
    {
      "cell_type": "markdown",
      "metadata": {
        "id": "4rukvDq01KX_",
        "colab_type": "text"
      },
      "source": [
        ""
      ]
    },
    {
      "cell_type": "code",
      "metadata": {
        "id": "O8KONojj05oA",
        "colab_type": "code",
        "colab": {
          "base_uri": "https://localhost:8080/",
          "height": 34
        },
        "outputId": "206415be-da23-42f3-a504-d7e815a57857"
      },
      "source": [
        "ls /root/.keras/datasets/cats_and_dogs_filtered/train"
      ],
      "execution_count": 20,
      "outputs": [
        {
          "output_type": "stream",
          "text": [
            "\u001b[0m\u001b[01;34mcats\u001b[0m/  \u001b[01;34mdogs\u001b[0m/\n"
          ],
          "name": "stdout"
        }
      ]
    },
    {
      "cell_type": "code",
      "metadata": {
        "id": "zElDwPnR9A_7",
        "colab_type": "code",
        "colab": {}
      },
      "source": [
        ""
      ],
      "execution_count": null,
      "outputs": []
    },
    {
      "cell_type": "markdown",
      "metadata": {
        "id": "wxZGmAip1JOQ",
        "colab_type": "text"
      },
      "source": [
        "# New Section"
      ]
    }
  ]
}